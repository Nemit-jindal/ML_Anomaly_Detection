{
  "nbformat": 4,
  "nbformat_minor": 0,
  "metadata": {
    "colab": {
      "provenance": [],
      "authorship_tag": "ABX9TyMgWIzq6mRY2KDopggLsXv0",
      "include_colab_link": true
    },
    "kernelspec": {
      "name": "python3",
      "display_name": "Python 3"
    },
    "language_info": {
      "name": "python"
    }
  },
  "cells": [
    {
      "cell_type": "markdown",
      "metadata": {
        "id": "view-in-github",
        "colab_type": "text"
      },
      "source": [
        "<a href=\"https://colab.research.google.com/github/Nemit-jindal/ML_Anomaly_Detection/blob/main/AnomalyDetection_using_IsolationForest.ipynb\" target=\"_parent\"><img src=\"https://colab.research.google.com/assets/colab-badge.svg\" alt=\"Open In Colab\"/></a>"
      ]
    },
    {
      "cell_type": "code",
      "execution_count": 1,
      "metadata": {
        "id": "9kaNlv0r_jEJ"
      },
      "outputs": [],
      "source": [
        "import pandas as pd\n",
        "import numpy as np\n",
        "import seaborn as sns\n",
        "import matplotlib.pyplot as plt\n",
        "\n",
        "import warnings\n",
        "warnings.filterwarnings('ignore')"
      ]
    },
    {
      "cell_type": "code",
      "source": [
        "df=pd.read_csv(\"healthcare (1).csv\")\n",
        "df.head()"
      ],
      "metadata": {
        "colab": {
          "base_uri": "https://localhost:8080/",
          "height": 206
        },
        "id": "ymsb5KsZADq0",
        "outputId": "1523b678-89ed-4a2d-ee53-83586b423098"
      },
      "execution_count": 5,
      "outputs": [
        {
          "output_type": "execute_result",
          "data": {
            "text/plain": [
              "          0         1\n",
              "0  1.616671  1.944522\n",
              "1  1.256461  1.609444\n",
              "2 -2.343919  4.392961\n",
              "3  1.195393  2.794485\n",
              "4 -3.329586  5.303160"
            ],
            "text/html": [
              "\n",
              "  <div id=\"df-791de030-a481-4977-b71d-1a300fb202e3\" class=\"colab-df-container\">\n",
              "    <div>\n",
              "<style scoped>\n",
              "    .dataframe tbody tr th:only-of-type {\n",
              "        vertical-align: middle;\n",
              "    }\n",
              "\n",
              "    .dataframe tbody tr th {\n",
              "        vertical-align: top;\n",
              "    }\n",
              "\n",
              "    .dataframe thead th {\n",
              "        text-align: right;\n",
              "    }\n",
              "</style>\n",
              "<table border=\"1\" class=\"dataframe\">\n",
              "  <thead>\n",
              "    <tr style=\"text-align: right;\">\n",
              "      <th></th>\n",
              "      <th>0</th>\n",
              "      <th>1</th>\n",
              "    </tr>\n",
              "  </thead>\n",
              "  <tbody>\n",
              "    <tr>\n",
              "      <th>0</th>\n",
              "      <td>1.616671</td>\n",
              "      <td>1.944522</td>\n",
              "    </tr>\n",
              "    <tr>\n",
              "      <th>1</th>\n",
              "      <td>1.256461</td>\n",
              "      <td>1.609444</td>\n",
              "    </tr>\n",
              "    <tr>\n",
              "      <th>2</th>\n",
              "      <td>-2.343919</td>\n",
              "      <td>4.392961</td>\n",
              "    </tr>\n",
              "    <tr>\n",
              "      <th>3</th>\n",
              "      <td>1.195393</td>\n",
              "      <td>2.794485</td>\n",
              "    </tr>\n",
              "    <tr>\n",
              "      <th>4</th>\n",
              "      <td>-3.329586</td>\n",
              "      <td>5.303160</td>\n",
              "    </tr>\n",
              "  </tbody>\n",
              "</table>\n",
              "</div>\n",
              "    <div class=\"colab-df-buttons\">\n",
              "\n",
              "  <div class=\"colab-df-container\">\n",
              "    <button class=\"colab-df-convert\" onclick=\"convertToInteractive('df-791de030-a481-4977-b71d-1a300fb202e3')\"\n",
              "            title=\"Convert this dataframe to an interactive table.\"\n",
              "            style=\"display:none;\">\n",
              "\n",
              "  <svg xmlns=\"http://www.w3.org/2000/svg\" height=\"24px\" viewBox=\"0 -960 960 960\">\n",
              "    <path d=\"M120-120v-720h720v720H120Zm60-500h600v-160H180v160Zm220 220h160v-160H400v160Zm0 220h160v-160H400v160ZM180-400h160v-160H180v160Zm440 0h160v-160H620v160ZM180-180h160v-160H180v160Zm440 0h160v-160H620v160Z\"/>\n",
              "  </svg>\n",
              "    </button>\n",
              "\n",
              "  <style>\n",
              "    .colab-df-container {\n",
              "      display:flex;\n",
              "      gap: 12px;\n",
              "    }\n",
              "\n",
              "    .colab-df-convert {\n",
              "      background-color: #E8F0FE;\n",
              "      border: none;\n",
              "      border-radius: 50%;\n",
              "      cursor: pointer;\n",
              "      display: none;\n",
              "      fill: #1967D2;\n",
              "      height: 32px;\n",
              "      padding: 0 0 0 0;\n",
              "      width: 32px;\n",
              "    }\n",
              "\n",
              "    .colab-df-convert:hover {\n",
              "      background-color: #E2EBFA;\n",
              "      box-shadow: 0px 1px 2px rgba(60, 64, 67, 0.3), 0px 1px 3px 1px rgba(60, 64, 67, 0.15);\n",
              "      fill: #174EA6;\n",
              "    }\n",
              "\n",
              "    .colab-df-buttons div {\n",
              "      margin-bottom: 4px;\n",
              "    }\n",
              "\n",
              "    [theme=dark] .colab-df-convert {\n",
              "      background-color: #3B4455;\n",
              "      fill: #D2E3FC;\n",
              "    }\n",
              "\n",
              "    [theme=dark] .colab-df-convert:hover {\n",
              "      background-color: #434B5C;\n",
              "      box-shadow: 0px 1px 3px 1px rgba(0, 0, 0, 0.15);\n",
              "      filter: drop-shadow(0px 1px 2px rgba(0, 0, 0, 0.3));\n",
              "      fill: #FFFFFF;\n",
              "    }\n",
              "  </style>\n",
              "\n",
              "    <script>\n",
              "      const buttonEl =\n",
              "        document.querySelector('#df-791de030-a481-4977-b71d-1a300fb202e3 button.colab-df-convert');\n",
              "      buttonEl.style.display =\n",
              "        google.colab.kernel.accessAllowed ? 'block' : 'none';\n",
              "\n",
              "      async function convertToInteractive(key) {\n",
              "        const element = document.querySelector('#df-791de030-a481-4977-b71d-1a300fb202e3');\n",
              "        const dataTable =\n",
              "          await google.colab.kernel.invokeFunction('convertToInteractive',\n",
              "                                                    [key], {});\n",
              "        if (!dataTable) return;\n",
              "\n",
              "        const docLinkHtml = 'Like what you see? Visit the ' +\n",
              "          '<a target=\"_blank\" href=https://colab.research.google.com/notebooks/data_table.ipynb>data table notebook</a>'\n",
              "          + ' to learn more about interactive tables.';\n",
              "        element.innerHTML = '';\n",
              "        dataTable['output_type'] = 'display_data';\n",
              "        await google.colab.output.renderOutput(dataTable, element);\n",
              "        const docLink = document.createElement('div');\n",
              "        docLink.innerHTML = docLinkHtml;\n",
              "        element.appendChild(docLink);\n",
              "      }\n",
              "    </script>\n",
              "  </div>\n",
              "\n",
              "\n",
              "<div id=\"df-ac0c3c6e-c6cb-4490-b935-4bcca1270e69\">\n",
              "  <button class=\"colab-df-quickchart\" onclick=\"quickchart('df-ac0c3c6e-c6cb-4490-b935-4bcca1270e69')\"\n",
              "            title=\"Suggest charts\"\n",
              "            style=\"display:none;\">\n",
              "\n",
              "<svg xmlns=\"http://www.w3.org/2000/svg\" height=\"24px\"viewBox=\"0 0 24 24\"\n",
              "     width=\"24px\">\n",
              "    <g>\n",
              "        <path d=\"M19 3H5c-1.1 0-2 .9-2 2v14c0 1.1.9 2 2 2h14c1.1 0 2-.9 2-2V5c0-1.1-.9-2-2-2zM9 17H7v-7h2v7zm4 0h-2V7h2v10zm4 0h-2v-4h2v4z\"/>\n",
              "    </g>\n",
              "</svg>\n",
              "  </button>\n",
              "\n",
              "<style>\n",
              "  .colab-df-quickchart {\n",
              "      --bg-color: #E8F0FE;\n",
              "      --fill-color: #1967D2;\n",
              "      --hover-bg-color: #E2EBFA;\n",
              "      --hover-fill-color: #174EA6;\n",
              "      --disabled-fill-color: #AAA;\n",
              "      --disabled-bg-color: #DDD;\n",
              "  }\n",
              "\n",
              "  [theme=dark] .colab-df-quickchart {\n",
              "      --bg-color: #3B4455;\n",
              "      --fill-color: #D2E3FC;\n",
              "      --hover-bg-color: #434B5C;\n",
              "      --hover-fill-color: #FFFFFF;\n",
              "      --disabled-bg-color: #3B4455;\n",
              "      --disabled-fill-color: #666;\n",
              "  }\n",
              "\n",
              "  .colab-df-quickchart {\n",
              "    background-color: var(--bg-color);\n",
              "    border: none;\n",
              "    border-radius: 50%;\n",
              "    cursor: pointer;\n",
              "    display: none;\n",
              "    fill: var(--fill-color);\n",
              "    height: 32px;\n",
              "    padding: 0;\n",
              "    width: 32px;\n",
              "  }\n",
              "\n",
              "  .colab-df-quickchart:hover {\n",
              "    background-color: var(--hover-bg-color);\n",
              "    box-shadow: 0 1px 2px rgba(60, 64, 67, 0.3), 0 1px 3px 1px rgba(60, 64, 67, 0.15);\n",
              "    fill: var(--button-hover-fill-color);\n",
              "  }\n",
              "\n",
              "  .colab-df-quickchart-complete:disabled,\n",
              "  .colab-df-quickchart-complete:disabled:hover {\n",
              "    background-color: var(--disabled-bg-color);\n",
              "    fill: var(--disabled-fill-color);\n",
              "    box-shadow: none;\n",
              "  }\n",
              "\n",
              "  .colab-df-spinner {\n",
              "    border: 2px solid var(--fill-color);\n",
              "    border-color: transparent;\n",
              "    border-bottom-color: var(--fill-color);\n",
              "    animation:\n",
              "      spin 1s steps(1) infinite;\n",
              "  }\n",
              "\n",
              "  @keyframes spin {\n",
              "    0% {\n",
              "      border-color: transparent;\n",
              "      border-bottom-color: var(--fill-color);\n",
              "      border-left-color: var(--fill-color);\n",
              "    }\n",
              "    20% {\n",
              "      border-color: transparent;\n",
              "      border-left-color: var(--fill-color);\n",
              "      border-top-color: var(--fill-color);\n",
              "    }\n",
              "    30% {\n",
              "      border-color: transparent;\n",
              "      border-left-color: var(--fill-color);\n",
              "      border-top-color: var(--fill-color);\n",
              "      border-right-color: var(--fill-color);\n",
              "    }\n",
              "    40% {\n",
              "      border-color: transparent;\n",
              "      border-right-color: var(--fill-color);\n",
              "      border-top-color: var(--fill-color);\n",
              "    }\n",
              "    60% {\n",
              "      border-color: transparent;\n",
              "      border-right-color: var(--fill-color);\n",
              "    }\n",
              "    80% {\n",
              "      border-color: transparent;\n",
              "      border-right-color: var(--fill-color);\n",
              "      border-bottom-color: var(--fill-color);\n",
              "    }\n",
              "    90% {\n",
              "      border-color: transparent;\n",
              "      border-bottom-color: var(--fill-color);\n",
              "    }\n",
              "  }\n",
              "</style>\n",
              "\n",
              "  <script>\n",
              "    async function quickchart(key) {\n",
              "      const quickchartButtonEl =\n",
              "        document.querySelector('#' + key + ' button');\n",
              "      quickchartButtonEl.disabled = true;  // To prevent multiple clicks.\n",
              "      quickchartButtonEl.classList.add('colab-df-spinner');\n",
              "      try {\n",
              "        const charts = await google.colab.kernel.invokeFunction(\n",
              "            'suggestCharts', [key], {});\n",
              "      } catch (error) {\n",
              "        console.error('Error during call to suggestCharts:', error);\n",
              "      }\n",
              "      quickchartButtonEl.classList.remove('colab-df-spinner');\n",
              "      quickchartButtonEl.classList.add('colab-df-quickchart-complete');\n",
              "    }\n",
              "    (() => {\n",
              "      let quickchartButtonEl =\n",
              "        document.querySelector('#df-ac0c3c6e-c6cb-4490-b935-4bcca1270e69 button');\n",
              "      quickchartButtonEl.style.display =\n",
              "        google.colab.kernel.accessAllowed ? 'block' : 'none';\n",
              "    })();\n",
              "  </script>\n",
              "</div>\n",
              "\n",
              "    </div>\n",
              "  </div>\n"
            ],
            "application/vnd.google.colaboratory.intrinsic+json": {
              "type": "dataframe",
              "variable_name": "df",
              "summary": "{\n  \"name\": \"df\",\n  \"rows\": 250,\n  \"fields\": [\n    {\n      \"column\": \"0\",\n      \"properties\": {\n        \"dtype\": \"number\",\n        \"std\": 2.70450100595171,\n        \"min\": -5.888765911500949,\n        \"max\": 9.39915671907378,\n        \"num_unique_values\": 250,\n        \"samples\": [\n          2.137125235664814,\n          0.4561196851060762,\n          6.335474879272976\n        ],\n        \"semantic_type\": \"\",\n        \"description\": \"\"\n      }\n    },\n    {\n      \"column\": \"1\",\n      \"properties\": {\n        \"dtype\": \"number\",\n        \"std\": 2.4634755438071094,\n        \"min\": -5.409808842327475,\n        \"max\": 9.54851332353537,\n        \"num_unique_values\": 250,\n        \"samples\": [\n          1.7220527506339114,\n          1.807574190885176,\n          1.900729541830252\n        ],\n        \"semantic_type\": \"\",\n        \"description\": \"\"\n      }\n    }\n  ]\n}"
            }
          },
          "metadata": {},
          "execution_count": 5
        }
      ]
    },
    {
      "cell_type": "code",
      "source": [
        "plt.scatter(df.iloc[:,0],df.iloc[:,1])"
      ],
      "metadata": {
        "colab": {
          "base_uri": "https://localhost:8080/",
          "height": 447
        },
        "id": "R6gBmmdZATiO",
        "outputId": "c78ac146-d5e5-473f-c0e3-d7fa4aefebcc"
      },
      "execution_count": 6,
      "outputs": [
        {
          "output_type": "execute_result",
          "data": {
            "text/plain": [
              "<matplotlib.collections.PathCollection at 0x7d70e041f190>"
            ]
          },
          "metadata": {},
          "execution_count": 6
        },
        {
          "output_type": "display_data",
          "data": {
            "text/plain": [
              "<Figure size 640x480 with 1 Axes>"
            ],
            "image/png": "[encoded data removed]"
          },
          "metadata": {}
        }
      ]
    },
    {
      "cell_type": "code",
      "source": [
        "from sklearn.ensemble import IsolationForest\n",
        "out=IsolationForest(contamination=0.2)\n",
        "out.fit(df)"
      ],
      "metadata": {
        "colab": {
          "base_uri": "https://localhost:8080/",
          "height": 74
        },
        "id": "G0fhrV3eA4Ei",
        "outputId": "67aa297c-3ebd-488a-a7e9-53d2e240743f"
      },
      "execution_count": 7,
      "outputs": [
        {
          "output_type": "execute_result",
          "data": {
            "text/plain": [
              "IsolationForest(contamination=0.2)"
            ],
            "text/html": [
              "<style>#sk-container-id-1 {color: black;}#sk-container-id-1 pre{padding: 0;}#sk-container-id-1 div.sk-toggleable {background-color: white;}#sk-container-id-1 label.sk-toggleable__label {cursor: pointer;display: block;width: 100%;margin-bottom: 0;padding: 0.3em;box-sizing: border-box;text-align: center;}#sk-container-id-1 label.sk-toggleable__label-arrow:before {content: \"▸\";float: left;margin-right: 0.25em;color: #696969;}#sk-container-id-1 label.sk-toggleable__label-arrow:hover:before {color: black;}#sk-container-id-1 div.sk-estimator:hover label.sk-toggleable__label-arrow:before {color: black;}#sk-container-id-1 div.sk-toggleable__content {max-height: 0;max-width: 0;overflow: hidden;text-align: left;background-color: #f0f8ff;}#sk-container-id-1 div.sk-toggleable__content pre {margin: 0.2em;color: black;border-radius: 0.25em;background-color: #f0f8ff;}#sk-container-id-1 input.sk-toggleable__control:checked~div.sk-toggleable__content {max-height: 200px;max-width: 100%;overflow: auto;}#sk-container-id-1 input.sk-toggleable__control:checked~label.sk-toggleable__label-arrow:before {content: \"▾\";}#sk-container-id-1 div.sk-estimator input.sk-toggleable__control:checked~label.sk-toggleable__label {background-color: #d4ebff;}#sk-container-id-1 div.sk-label input.sk-toggleable__control:checked~label.sk-toggleable__label {background-color: #d4ebff;}#sk-container-id-1 input.sk-hidden--visually {border: 0;clip: rect(1px 1px 1px 1px);clip: rect(1px, 1px, 1px, 1px);height: 1px;margin: -1px;overflow: hidden;padding: 0;position: absolute;width: 1px;}#sk-container-id-1 div.sk-estimator {font-family: monospace;background-color: #f0f8ff;border: 1px dotted black;border-radius: 0.25em;box-sizing: border-box;margin-bottom: 0.5em;}#sk-container-id-1 div.sk-estimator:hover {background-color: #d4ebff;}#sk-container-id-1 div.sk-parallel-item::after {content: \"\";width: 100%;border-bottom: 1px solid gray;flex-grow: 1;}#sk-container-id-1 div.sk-label:hover label.sk-toggleable__label {background-color: #d4ebff;}#sk-container-id-1 div.sk-serial::before {content: \"\";position: absolute;border-left: 1px solid gray;box-sizing: border-box;top: 0;bottom: 0;left: 50%;z-index: 0;}#sk-container-id-1 div.sk-serial {display: flex;flex-direction: column;align-items: center;background-color: white;padding-right: 0.2em;padding-left: 0.2em;position: relative;}#sk-container-id-1 div.sk-item {position: relative;z-index: 1;}#sk-container-id-1 div.sk-parallel {display: flex;align-items: stretch;justify-content: center;background-color: white;position: relative;}#sk-container-id-1 div.sk-item::before, #sk-container-id-1 div.sk-parallel-item::before {content: \"\";position: absolute;border-left: 1px solid gray;box-sizing: border-box;top: 0;bottom: 0;left: 50%;z-index: -1;}#sk-container-id-1 div.sk-parallel-item {display: flex;flex-direction: column;z-index: 1;position: relative;background-color: white;}#sk-container-id-1 div.sk-parallel-item:first-child::after {align-self: flex-end;width: 50%;}#sk-container-id-1 div.sk-parallel-item:last-child::after {align-self: flex-start;width: 50%;}#sk-container-id-1 div.sk-parallel-item:only-child::after {width: 0;}#sk-container-id-1 div.sk-dashed-wrapped {border: 1px dashed gray;margin: 0 0.4em 0.5em 0.4em;box-sizing: border-box;padding-bottom: 0.4em;background-color: white;}#sk-container-id-1 div.sk-label label {font-family: monospace;font-weight: bold;display: inline-block;line-height: 1.2em;}#sk-container-id-1 div.sk-label-container {text-align: center;}#sk-container-id-1 div.sk-container {/* jupyter's `normalize.less` sets `[hidden] { display: none; }` but bootstrap.min.css set `[hidden] { display: none !important; }` so we also need the `!important` here to be able to override the default hidden behavior on the sphinx rendered scikit-learn.org. See: https://github.com/scikit-learn/scikit-learn/issues/21755 */display: inline-block !important;position: relative;}#sk-container-id-1 div.sk-text-repr-fallback {display: none;}</style><div id=\"sk-container-id-1\" class=\"sk-top-container\"><div class=\"sk-text-repr-fallback\"><pre>IsolationForest(contamination=0.2)</pre><b>In a Jupyter environment, please rerun this cell to show the HTML representation or trust the notebook. <br />On GitHub, the HTML representation is unable to render, please try loading this page with nbviewer.org.</b></div><div class=\"sk-container\" hidden><div class=\"sk-item\"><div class=\"sk-estimator sk-toggleable\"><input class=\"sk-toggleable__control sk-hidden--visually\" id=\"sk-estimator-id-1\" type=\"checkbox\" checked><label for=\"sk-estimator-id-1\" class=\"sk-toggleable__label sk-toggleable__label-arrow\">IsolationForest</label><div class=\"sk-toggleable__content\"><pre>IsolationForest(contamination=0.2)</pre></div></div></div></div></div>"
            ]
          },
          "metadata": {},
          "execution_count": 7
        }
      ]
    },
    {
      "cell_type": "code",
      "source": [
        "pred=out.predict(df)"
      ],
      "metadata": {
        "id": "2aqUxzNoBZGM"
      },
      "execution_count": 8,
      "outputs": []
    },
    {
      "cell_type": "code",
      "source": [
        "pred"
      ],
      "metadata": {
        "colab": {
          "base_uri": "https://localhost:8080/"
        },
        "id": "n7N2sl2VBd94",
        "outputId": "e32e990e-5a97-44b5-e709-274082d5f045"
      },
      "execution_count": 9,
      "outputs": [
        {
          "output_type": "execute_result",
          "data": {
            "text/plain": [
              "array([ 1,  1,  1,  1, -1,  1,  1,  1,  1,  1,  1,  1,  1,  1,  1,  1,  1,\n",
              "        1,  1,  1, -1,  1,  1,  1, -1,  1,  1,  1,  1,  1,  1,  1,  1,  1,\n",
              "        1,  1,  1,  1,  1,  1,  1,  1,  1,  1,  1, -1,  1,  1, -1, -1,  1,\n",
              "        1,  1, -1,  1, -1,  1,  1,  1,  1, -1, -1,  1, -1,  1,  1,  1, -1,\n",
              "        1,  1,  1,  1, -1,  1, -1,  1,  1,  1, -1,  1,  1,  1,  1, -1,  1,\n",
              "       -1,  1, -1,  1, -1,  1,  1, -1,  1,  1,  1,  1, -1,  1,  1,  1,  1,\n",
              "        1,  1, -1,  1,  1,  1, -1,  1,  1,  1,  1,  1, -1,  1,  1,  1,  1,\n",
              "       -1,  1,  1,  1,  1,  1,  1, -1,  1,  1,  1, -1,  1, -1, -1,  1,  1,\n",
              "        1,  1,  1,  1,  1, -1,  1,  1,  1,  1,  1,  1,  1,  1,  1, -1,  1,\n",
              "        1,  1,  1,  1,  1,  1,  1, -1,  1,  1,  1,  1,  1,  1, -1,  1,  1,\n",
              "        1,  1,  1,  1,  1,  1,  1, -1,  1, -1,  1, -1, -1,  1,  1,  1,  1,\n",
              "       -1,  1,  1,  1,  1,  1,  1,  1,  1,  1,  1,  1, -1,  1,  1,  1,  1,\n",
              "       -1,  1,  1,  1,  1, -1,  1,  1, -1,  1, -1,  1,  1, -1,  1,  1, -1,\n",
              "       -1,  1,  1,  1,  1,  1, -1,  1,  1,  1,  1,  1,  1,  1,  1,  1,  1,\n",
              "        1,  1,  1,  1, -1,  1,  1,  1,  1, -1, -1,  1])"
            ]
          },
          "metadata": {},
          "execution_count": 9
        }
      ]
    },
    {
      "cell_type": "code",
      "source": [
        "index=np.where(pred<0)\n",
        "index"
      ],
      "metadata": {
        "colab": {
          "base_uri": "https://localhost:8080/"
        },
        "id": "LHYHubKPBefN",
        "outputId": "3760e9f2-e142-4326-8031-1814836d9bb5"
      },
      "execution_count": 10,
      "outputs": [
        {
          "output_type": "execute_result",
          "data": {
            "text/plain": [
              "(array([  4,  20,  24,  45,  48,  49,  53,  55,  60,  61,  63,  67,  72,\n",
              "         74,  78,  83,  85,  87,  89,  92,  97, 104, 108, 114, 119, 126,\n",
              "        130, 132, 133, 141, 151, 160, 167, 177, 179, 181, 182, 187, 199,\n",
              "        204, 209, 212, 214, 217, 220, 221, 227, 242, 247, 248]),)"
            ]
          },
          "metadata": {},
          "execution_count": 10
        }
      ]
    },
    {
      "cell_type": "code",
      "source": [
        "x=df.values"
      ],
      "metadata": {
        "id": "5JdW5ExbBlSw"
      },
      "execution_count": 11,
      "outputs": []
    },
    {
      "cell_type": "code",
      "source": [
        "x"
      ],
      "metadata": {
        "colab": {
          "base_uri": "https://localhost:8080/"
        },
        "id": "4-S4joxgBnU1",
        "outputId": "9767b1b4-cbdb-4974-fac1-c18358bea139"
      },
      "execution_count": 12,
      "outputs": [
        {
          "output_type": "execute_result",
          "data": {
            "text/plain": [
              "array([[ 1.61667145,  1.94452201],\n",
              "       [ 1.2564615 ,  1.60944428],\n",
              "       [-2.34391881,  4.3929613 ],\n",
              "       [ 1.19539251,  2.79448461],\n",
              "       [-3.32958612,  5.30315976],\n",
              "       [ 1.6241983 ,  1.21875334],\n",
              "       [ 0.45611969,  1.80757419],\n",
              "       [ 0.62304325,  2.04424325],\n",
              "       [-2.05908202,  4.6599109 ],\n",
              "       [ 2.16307638,  1.39149293],\n",
              "       [-2.13386677,  4.43599433],\n",
              "       [-1.65311342,  4.92021328],\n",
              "       [ 0.75047316,  2.23811621],\n",
              "       [-1.71073925,  5.17482723],\n",
              "       [ 0.86102444,  2.2819114 ],\n",
              "       [-1.86274182,  4.55454246],\n",
              "       [ 1.48027244,  1.79983231],\n",
              "       [ 1.45223088,  2.69933991],\n",
              "       [-1.65509092,  5.65092311],\n",
              "       [ 1.22887123,  1.28838807],\n",
              "       [ 9.39915672, -1.97148327],\n",
              "       [ 2.04025339,  2.07645291],\n",
              "       [ 0.890442  ,  1.09480523],\n",
              "       [-2.35235014,  5.47163036],\n",
              "       [ 0.56612677,  6.08881822],\n",
              "       [-2.38207196,  4.28110426],\n",
              "       [-2.57809122,  5.39059905],\n",
              "       [-1.92902342,  4.84033579],\n",
              "       [-2.40668213,  4.26678784],\n",
              "       [ 0.37027151,  1.3510818 ],\n",
              "       [-1.62640583,  4.40552752],\n",
              "       [ 0.30561087,  2.86554278],\n",
              "       [-2.14591868,  4.61925389],\n",
              "       [-2.15450648,  4.1619981 ],\n",
              "       [ 2.57294545,  2.52855114],\n",
              "       [ 1.21777614,  2.35571155],\n",
              "       [-2.06505348,  5.04697661],\n",
              "       [ 1.76349787,  0.73041945],\n",
              "       [ 0.35886116,  1.82394758],\n",
              "       [-1.92174673,  5.11609052],\n",
              "       [-2.34200545,  5.8297754 ],\n",
              "       [ 1.64579248,  2.18364733],\n",
              "       [-1.73946756,  4.71210602],\n",
              "       [ 2.36372527,  0.84065629],\n",
              "       [ 1.90361357,  1.35419087],\n",
              "       [ 6.85875323, -3.01487906],\n",
              "       [ 1.21046671,  0.97678163],\n",
              "       [ 1.02927769,  1.24831279],\n",
              "       [ 4.1344601 ,  7.94336944],\n",
              "       [ 2.18511659,  3.06862524],\n",
              "       [ 1.02796714,  1.52228139],\n",
              "       [ 2.09978143,  1.04428208],\n",
              "       [ 0.87854998,  0.11344247],\n",
              "       [ 8.52106358, -2.01132433],\n",
              "       [-2.4779725 ,  4.82700911],\n",
              "       [-1.36397675, -3.4204594 ],\n",
              "       [-1.8145875 ,  5.0710309 ],\n",
              "       [ 0.96105875,  1.87747443],\n",
              "       [ 1.53203096,  1.3689713 ],\n",
              "       [ 1.93766202,  0.37855964],\n",
              "       [-1.25275773,  3.96500749],\n",
              "       [-3.12778211,  4.48874658],\n",
              "       [ 3.01426516,  2.43556956],\n",
              "       [ 2.30064995,  5.24830334],\n",
              "       [-2.0308132 ,  4.94634736],\n",
              "       [ 1.81070426,  1.73357203],\n",
              "       [-1.57918437,  4.87527071],\n",
              "       [-2.07883351,  6.12836175],\n",
              "       [-2.88426923,  5.1777409 ],\n",
              "       [ 0.72693166,  1.53651556],\n",
              "       [-2.34602492,  5.76818853],\n",
              "       [-2.87794529,  5.22546723],\n",
              "       [ 9.08655526, -0.82875309],\n",
              "       [ 0.6106605 ,  2.1785777 ],\n",
              "       [ 7.80965481,  3.97277003],\n",
              "       [-2.06644029,  4.85110456],\n",
              "       [-1.57103804,  5.57055093],\n",
              "       [-2.9681399 ,  5.0943893 ],\n",
              "       [ 6.17256078,  2.98043516],\n",
              "       [-2.10345184,  5.44008946],\n",
              "       [-3.04730154,  5.06186096],\n",
              "       [-2.31871851,  4.80136409],\n",
              "       [ 1.6008305 ,  2.51799145],\n",
              "       [ 0.67857605, -2.44627503],\n",
              "       [ 1.25220426,  0.53753409],\n",
              "       [-0.18192636,  9.54851332],\n",
              "       [ 1.54656206,  1.71173033],\n",
              "       [-5.59329397, -4.27373717],\n",
              "       [ 0.64219514,  2.09105408],\n",
              "       [-2.65326343,  5.82906534],\n",
              "       [ 0.76601292,  0.50598744],\n",
              "       [ 0.59500016,  1.68693561],\n",
              "       [-4.08215412, -0.59815726],\n",
              "       [ 1.70876672,  2.42847013],\n",
              "       [ 2.33162085,  1.72185983],\n",
              "       [-2.19972451,  5.18502794],\n",
              "       [-1.53524744,  5.2911123 ],\n",
              "       [ 6.33547488,  1.90072954],\n",
              "       [-1.4657453 ,  4.7733071 ],\n",
              "       [ 1.97060633,  1.78522329],\n",
              "       [-2.06797485,  5.56844568],\n",
              "       [ 1.92985556,  2.14554467],\n",
              "       [-2.47222313,  4.79497515],\n",
              "       [-2.22046132,  4.85982225],\n",
              "       [-1.24000257,  5.85979465],\n",
              "       [-2.59442963,  4.74659182],\n",
              "       [ 2.3251457 ,  1.37405261],\n",
              "       [-2.29932697,  4.44205151],\n",
              "       [-5.88876591,  2.17195684],\n",
              "       [ 2.54585535,  1.35638922],\n",
              "       [-2.05527033,  5.51008636],\n",
              "       [-1.85682816,  5.30442192],\n",
              "       [ 1.71914739,  0.90213298],\n",
              "       [ 2.16459456,  1.56128587],\n",
              "       [-2.3530374 ,  0.83372462],\n",
              "       [ 1.05597453,  1.24608118],\n",
              "       [-2.02108573,  4.8565564 ],\n",
              "       [-0.87034552,  4.97887142],\n",
              "       [-1.42383422,  5.5398093 ],\n",
              "       [ 8.87516244,  6.92992607],\n",
              "       [-2.84905291,  5.19364024],\n",
              "       [-2.36279869,  4.30831802],\n",
              "       [ 1.4277468 ,  1.78741895],\n",
              "       [-2.09252684,  4.59617576],\n",
              "       [-2.35980219,  4.59350351],\n",
              "       [-1.98068472,  4.17164245],\n",
              "       [-0.9703043 ,  2.13713106],\n",
              "       [ 1.50735001,  2.75010935],\n",
              "       [-2.31404378,  4.75948644],\n",
              "       [-1.66680846,  4.76964011],\n",
              "       [ 5.3097175 ,  5.66411469],\n",
              "       [-1.26671064,  5.42627597],\n",
              "       [ 1.04946712, -0.05638221],\n",
              "       [ 6.34032555, -4.81528557],\n",
              "       [ 0.67881362,  2.86053483],\n",
              "       [-1.73805449,  5.04421104],\n",
              "       [ 1.86629366,  1.37991757],\n",
              "       [ 2.29758048,  0.63562193],\n",
              "       [-2.5634129 ,  4.63466112],\n",
              "       [-1.95113752,  5.29147684],\n",
              "       [-1.97525251,  5.24691839],\n",
              "       [-5.49713303,  4.18256658],\n",
              "       [ 2.13712524,  1.72205275],\n",
              "       [-2.32620429,  4.80452331],\n",
              "       [ 0.57886481,  1.17689078],\n",
              "       [-2.29865803,  4.88103914],\n",
              "       [-1.59274009,  5.02946279],\n",
              "       [ 0.68439511,  2.13057854],\n",
              "       [-2.23179799,  5.24074074],\n",
              "       [-2.00784106,  5.08046408],\n",
              "       [ 0.86489114,  1.53636178],\n",
              "       [ 7.08823625,  7.77168933],\n",
              "       [-2.15544309,  5.04870008],\n",
              "       [-2.66712924,  4.32664125],\n",
              "       [ 2.14460118,  1.72310936],\n",
              "       [ 2.28864515,  0.74404794],\n",
              "       [-2.71203045,  4.75334006],\n",
              "       [ 1.69594722,  1.43129473],\n",
              "       [-2.06685078,  5.5388719 ],\n",
              "       [ 0.97867162,  0.92149302],\n",
              "       [-3.01534223,  6.03224643],\n",
              "       [-2.1924399 ,  5.04717579],\n",
              "       [ 2.10510534,  0.98048449],\n",
              "       [-2.17671587,  4.19176291],\n",
              "       [-1.02204385,  5.19504666],\n",
              "       [-1.61337351,  4.40805968],\n",
              "       [ 3.16820134,  2.16113564],\n",
              "       [ 5.67369885,  4.20091954],\n",
              "       [ 2.36120348,  2.34166589],\n",
              "       [ 1.48297171,  0.98337836],\n",
              "       [-1.17593253,  5.08211388],\n",
              "       [ 0.9823059 ,  2.58011022],\n",
              "       [-1.65423062,  5.34737457],\n",
              "       [ 0.9307976 ,  0.29160218],\n",
              "       [ 1.28191323,  1.53931574],\n",
              "       [-2.15455722,  4.88326667],\n",
              "       [ 1.15137728,  2.85067244],\n",
              "       [-1.80047683,  3.61370362],\n",
              "       [ 2.03272641,  1.58517251],\n",
              "       [ 6.91904248,  8.3374608 ],\n",
              "       [-2.49275537,  4.2640825 ],\n",
              "       [-0.84804165,  4.46999209],\n",
              "       [ 3.08882824,  0.48194403],\n",
              "       [ 1.78163915,  1.02063294],\n",
              "       [-1.67834277,  4.2146883 ],\n",
              "       [ 2.05042957,  1.17350663],\n",
              "       [-2.27143074,  5.20802502],\n",
              "       [-1.02428285, -0.79706685],\n",
              "       [ 0.69677194,  1.19352597],\n",
              "       [-1.78687063,  5.33845402],\n",
              "       [ 2.84605942,  2.53636035],\n",
              "       [ 1.6084632 ,  1.76471376],\n",
              "       [-2.72326735,  5.40014897],\n",
              "       [ 1.05490775,  1.97350331],\n",
              "       [-2.52262668,  5.60557264],\n",
              "       [-1.53407581,  5.16998249],\n",
              "       [-2.18234677,  5.07835193],\n",
              "       [-0.28709287,  1.95753302],\n",
              "       [-1.13363941,  5.34225055],\n",
              "       [ 1.95597609, -1.18594704],\n",
              "       [-1.31773408,  4.65527541],\n",
              "       [-1.65077143,  5.00188544],\n",
              "       [ 1.31239764,  2.06171948],\n",
              "       [-2.57867763,  4.84385387],\n",
              "       [ 3.75302934,  2.04286437],\n",
              "       [ 1.47250203,  0.68233455],\n",
              "       [-1.71635486,  4.88866245],\n",
              "       [-2.23982791,  5.31017915],\n",
              "       [ 1.24157271,  1.33243458],\n",
              "       [ 2.81820549,  0.55656866],\n",
              "       [-2.00851021,  5.18957587],\n",
              "       [-1.85977915,  4.50343819],\n",
              "       [-1.44255209, -5.40980884],\n",
              "       [ 0.89714202,  2.83704547],\n",
              "       [ 2.80729059,  0.81590548],\n",
              "       [ 1.18112725,  1.51223541],\n",
              "       [ 0.93761324,  1.01731516],\n",
              "       [-0.9119444 , -4.23916921],\n",
              "       [-1.61666841,  5.17814641],\n",
              "       [ 0.79984926,  0.41866023],\n",
              "       [ 8.28094398,  2.62947587],\n",
              "       [-2.33922935, -4.76832144],\n",
              "       [ 2.01036339,  1.59028804],\n",
              "       [ 1.43108323,  1.0355652 ],\n",
              "       [-2.92153478,  4.761013  ],\n",
              "       [ 0.77603001,  1.97711616],\n",
              "       [ 1.58883846,  1.78139255],\n",
              "       [-0.26454834, -4.14609505],\n",
              "       [ 1.94809207,  0.36813077],\n",
              "       [ 1.74945648,  1.99460122],\n",
              "       [ 0.87317341,  1.77083175],\n",
              "       [ 2.16506189,  1.39404995],\n",
              "       [-2.29815702,  4.97371635],\n",
              "       [-2.3261468 ,  4.73940534],\n",
              "       [ 1.14324347,  1.19334799],\n",
              "       [ 1.7772047 ,  0.73485694],\n",
              "       [-2.09532675,  4.80257524],\n",
              "       [-2.7914692 ,  5.30518969],\n",
              "       [ 2.80729127,  2.13423126],\n",
              "       [ 1.82596371,  0.42462942],\n",
              "       [ 1.0138025 ,  1.39525582],\n",
              "       [-2.77039851,  5.031631  ],\n",
              "       [-0.7056316 , -4.9830664 ],\n",
              "       [ 2.73483664,  1.78011005],\n",
              "       [ 2.54177654,  2.82712242],\n",
              "       [ 2.26976172,  1.95868461],\n",
              "       [ 1.1424364 ,  0.67355747],\n",
              "       [ 8.19540388,  1.5554388 ],\n",
              "       [-4.08649206,  5.4119166 ],\n",
              "       [-1.75312911,  4.94194803]])"
            ]
          },
          "metadata": {},
          "execution_count": 12
        }
      ]
    },
    {
      "cell_type": "code",
      "source": [
        "plt.scatter(df.iloc[:,0],df.iloc[:,1])\n",
        "plt.scatter(x[index,0],x[index,1])"
      ],
      "metadata": {
        "colab": {
          "base_uri": "https://localhost:8080/",
          "height": 447
        },
        "id": "_c1aI16eBpFm",
        "outputId": "17279cdf-bbc8-415a-d476-7fced7d4fd28"
      },
      "execution_count": 14,
      "outputs": [
        {
          "output_type": "execute_result",
          "data": {
            "text/plain": [
              "<matplotlib.collections.PathCollection at 0x7d70dc5aaf20>"
            ]
          },
          "metadata": {},
          "execution_count": 14
        },
        {
          "output_type": "display_data",
          "data": {
            "text/plain": [
              "<Figure size 640x480 with 1 Axes>"
            ],
            "image/png": "[encoded data removed]"
          },
          "metadata": {}
        }
      ]
    }
  ]
}